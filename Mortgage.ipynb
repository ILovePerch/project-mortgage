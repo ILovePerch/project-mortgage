{
 "cells": [
  {
   "cell_type": "code",
   "execution_count": 2,
   "id": "0b7d892b",
   "metadata": {},
   "outputs": [],
   "source": [
    "import numpy as np\n",
    "import pandas as pd\n",
    "import matplotlib.pyplot as plt\n",
    "%matplotlib inline"
   ]
  },
  {
   "cell_type": "code",
   "execution_count": 3,
   "id": "130e9e25",
   "metadata": {},
   "outputs": [],
   "source": [
    "# Compute sum of the first n terms of a geometric sequence\n",
    "# Arguments:\n",
    "# a -- Scale factor, equal to the sequence's start value\n",
    "# r -- r ≠ 0 is the common ratio\n",
    "# n -- Number of terms\n",
    "def sum_geo_seq(a,r,n):\n",
    "    if r == 0:\n",
    "        print(\"Common ratio cannot be 0\")\n",
    "    else:\n",
    "        Sn = np.geomspace(a, a*r**(n-1), num=n).sum()    \n",
    "        return Sn    "
   ]
  },
  {
   "cell_type": "code",
   "execution_count": 4,
   "id": "3accdfc7",
   "metadata": {},
   "outputs": [],
   "source": [
    "#compute monthly mortgage payment\n",
    "#Arguments:\n",
    "#Bal    -- Initial balance or Current outstanding balance\n",
    "#Rate   -- Annual interest rate in percentage\n",
    "#Period -- Amortization period or Remaining amortization period\n",
    "def mth_mtg_pmt(Bal, Rate, Period):\n",
    "    #Calculate monthly interest rate\n",
    "    mRate = Rate/12/100\n",
    "    \n",
    "    #Calculate monthly mortgage payment\n",
    "    a = 1 / (1 + mRate)\n",
    "    r = 1 / (1 + mRate)\n",
    "    n = Period * 12\n",
    "    D = sum_geo_seq(a,r,n)\n",
    "    \n",
    "    Pmt = Bal / D\n",
    "    return Pmt"
   ]
  },
  {
   "cell_type": "code",
   "execution_count": 5,
   "id": "3469e114",
   "metadata": {},
   "outputs": [
    {
     "name": "stdout",
     "output_type": "stream",
     "text": [
      "When the initial balance = 760000, annual interest rate = 2.19%, amortization period = 25years,\n",
      "monthly mortgage payment is: 3292.06\n"
     ]
    }
   ],
   "source": [
    "#For initial balance of 760000 with annual interest rate of 2.19% and with amortization period of 25 years\n",
    "Bal, Rate, Period = (760000, 2.19, 25)\n",
    "Pmt = mth_mtg_pmt(Bal = 760000, Rate = 2.19, Period = 25)\n",
    "print(\"When the initial balance = \" + str(Bal) + \", annual interest rate = \" + str(Rate) + \n",
    "      \"%, amortization period = \" + str(Period) + \"years,\")\n",
    "print(\"monthly mortgage payment is: \" + str(round(Pmt,2)))"
   ]
  },
  {
   "cell_type": "code",
   "execution_count": 6,
   "id": "dd1c6150",
   "metadata": {},
   "outputs": [],
   "source": [
    "#Mortgage amortization schedule\n",
    "def amort(Bal, Rate, Period):\n",
    "    Res = []\n",
    "    CumInt = 0\n",
    "    CumPri = 0\n",
    "\n",
    "    # Monthly mortgage payment\n",
    "    MthPmt = mth_mtg_pmt(Bal, Rate, Period)\n",
    "    \n",
    "    # Mortgage amortization cash flow\n",
    "    for i in range(1, Period * 12 + 1):\n",
    "    \n",
    "        # Interest Payment\n",
    "        IntPmt = Bal * Rate/100/12\n",
    "\n",
    "        # Cumulative interest payment\n",
    "        CumInt = CumInt + IntPmt\n",
    "\n",
    "        # Principal Payment\n",
    "        PriPmt = MthPmt - IntPmt\n",
    "\n",
    "        # Calculate cumulative principal payment\n",
    "        CumPri = CumPri + PriPmt\n",
    "        \n",
    "        # Outstanding Balance\n",
    "        Bal = Bal - PriPmt\n",
    "\n",
    "\n",
    "        # Mortgage payment cash flow\n",
    "        Res.append([i, Bal, MthPmt, IntPmt, CumInt, PriPmt, CumPri])\n",
    "\n",
    "    return Res"
   ]
  },
  {
   "cell_type": "code",
   "execution_count": 7,
   "id": "6ea1d621",
   "metadata": {},
   "outputs": [],
   "source": [
    "CashFlow = amort(Bal = 760000, Rate = 2.19, Period = 25)"
   ]
  },
  {
   "cell_type": "code",
   "execution_count": 8,
   "id": "ba4959ad",
   "metadata": {},
   "outputs": [],
   "source": [
    "#Mortgage amortization schedule in Pandas DataFrame format\n",
    "def to_Pandas(Bal, Rate, Period, FirstPmtDate):\n",
    "    Df = pd.DataFrame(amort(Bal,Rate,Period)).round(2) \n",
    "    Df.columns = ['PmtNo', 'OutstandingBal', 'MthPmt', 'IntPmt', 'TotIntPaid',\n",
    "                  'PrincipalPmt', 'TotPrincipalPaid']\n",
    "\n",
    "    Df['PmtDate'] = pd.date_range(start=FirstPmtDate, periods=Period*12, freq='MS')\n",
    "    #order\n",
    "    Df = Df[['PmtDate','PmtNo', 'OutstandingBal', 'MthPmt', 'IntPmt', 'TotIntPaid',\n",
    "               'PrincipalPmt', 'TotPrincipalPaid']]\n",
    "    return Df"
   ]
  },
  {
   "cell_type": "code",
   "execution_count": 9,
   "id": "5360219e",
   "metadata": {},
   "outputs": [],
   "source": [
    "Df = to_Pandas(Bal=760000, Rate=2.19, Period=25, FirstPmtDate='2021-09-01')"
   ]
  },
  {
   "cell_type": "code",
   "execution_count": 10,
   "id": "5477a2cc",
   "metadata": {},
   "outputs": [],
   "source": [
    "Df.to_csv('mtg_amort_table.csv', index=False)\n",
    "Df.to_excel('mtg_amort_table.xlsx', index=False)"
   ]
  },
  {
   "cell_type": "code",
   "execution_count": 11,
   "id": "a636dc50",
   "metadata": {},
   "outputs": [
    {
     "data": {
      "image/png": "[encoded data removed]",
      "text/plain": [
       "<Figure size 432x288 with 1 Axes>"
      ]
     },
     "metadata": {
      "needs_background": "light"
     },
     "output_type": "display_data"
    }
   ],
   "source": [
    "#plot\n",
    "plt.plot(Df['PmtNo'], Df['TotIntPaid'], label='CumulativeInterestPaid')\n",
    "plt.plot(Df['PmtNo'], Df['TotPrincipalPaid'], label='CumulativePrincipalPaid')\n",
    "plt.plot(Df['PmtNo'], Df['OutstandingBal'], label='OutstandingBalance')\n",
    "plt.legend()\n",
    "plt.show()"
   ]
  },
  {
   "cell_type": "code",
   "execution_count": 12,
   "id": "ea1b5f1f",
   "metadata": {},
   "outputs": [
    {
     "data": {
      "image/png": "[encoded data removed]",
      "text/plain": [
       "<Figure size 432x288 with 1 Axes>"
      ]
     },
     "metadata": {
      "needs_background": "light"
     },
     "output_type": "display_data"
    }
   ],
   "source": [
    "plt.stackplot(Df['PmtNo'], Df['PrincipalPmt'], Df['IntPmt'], labels=['PrincipalPayment','InterestPayment'])\n",
    "plt.legend(loc='upper left')\n",
    "plt.show()"
   ]
  },
  {
   "cell_type": "code",
   "execution_count": null,
   "id": "d0854060",
   "metadata": {},
   "outputs": [],
   "source": []
  },
  {
   "cell_type": "code",
   "execution_count": null,
   "id": "c905f799",
   "metadata": {},
   "outputs": [],
   "source": []
  }
 ],
 "metadata": {
  "kernelspec": {
   "display_name": "Python 3",
   "language": "python",
   "name": "python3"
  },
  "language_info": {
   "codemirror_mode": {
    "name": "ipython",
    "version": 3
   },
   "file_extension": ".py",
   "mimetype": "text/x-python",
   "name": "python",
   "nbconvert_exporter": "python",
   "pygments_lexer": "ipython3",
   "version": "3.8.8"
  }
 },
 "nbformat": 4,
 "nbformat_minor": 5
}
